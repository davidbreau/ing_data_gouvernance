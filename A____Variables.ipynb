{
 "cells": [
  {
   "cell_type": "markdown",
   "metadata": {},
   "source": [
    "Vérifier la souscription :"
   ]
  },
  {
   "cell_type": "markdown",
   "metadata": {},
   "source": [
    "###  Ressource Group"
   ]
  },
  {
   "cell_type": "code",
   "execution_count": 1,
   "metadata": {},
   "outputs": [
    {
     "name": "stdout",
     "output_type": "stream",
     "text": [
      "Stored 'RG_NAME' (str)\n",
      "Stored 'RG_LOCATION' (str)\n"
     ]
    }
   ],
   "source": [
    "RG_NAME=\"RG_DG_DM_David-Breau\"\n",
    "RG_LOCATION=\"FranceCentral\"\n",
    "%store RG_NAME RG_LOCATION"
   ]
  },
  {
   "cell_type": "markdown",
   "metadata": {},
   "source": [
    "### Blob  Storage"
   ]
  },
  {
   "cell_type": "code",
   "execution_count": 2,
   "metadata": {},
   "outputs": [
    {
     "name": "stdout",
     "output_type": "stream",
     "text": [
      "Stored 'BLOB_NAME' (str)\n",
      "Stored 'BLOB_LOCATION' (str)\n",
      "Stored 'BLOB_SKU' (str)\n",
      "Stored 'CONTAINER_NAME' (str)\n"
     ]
    }
   ],
   "source": [
    "BLOB_NAME=\"blobdavidbreau\"\n",
    "BLOB_LOCATION=\"FranceCentral\"\n",
    "BLOB_SKU=\"Standard_LRS\"\n",
    "\n",
    "CONTAINER_NAME=\"students\"\n",
    "\n",
    "%store BLOB_NAME BLOB_LOCATION BLOB_SKU CONTAINER_NAME"
   ]
  },
  {
   "cell_type": "markdown",
   "metadata": {},
   "source": [
    "### Data Lake"
   ]
  },
  {
   "cell_type": "code",
   "execution_count": 3,
   "metadata": {},
   "outputs": [
    {
     "name": "stdout",
     "output_type": "stream",
     "text": [
      "Stored 'ADLS_NAME' (str)\n",
      "Stored 'ADLS_LOCATION' (str)\n"
     ]
    }
   ],
   "source": [
    "ADLS_NAME=\"adlsdavidbreau\"\n",
    "ADLS_LOCATION=\"FranceCentral\"\n",
    "\n",
    "%store ADLS_NAME ADLS_LOCATION"
   ]
  },
  {
   "cell_type": "markdown",
   "metadata": {},
   "source": [
    "### Base de données SQL"
   ]
  },
  {
   "cell_type": "markdown",
   "metadata": {},
   "source": [
    "SQL Server"
   ]
  },
  {
   "cell_type": "code",
   "execution_count": 4,
   "metadata": {},
   "outputs": [
    {
     "name": "stdout",
     "output_type": "stream",
     "text": [
      "Stored 'SQL_SERVER_NAME' (str)\n"
     ]
    }
   ],
   "source": [
    "SQL_SERVER_NAME=\"sql-server-davidbreau\"\n",
    "%store SQL_SERVER_NAME"
   ]
  },
  {
   "cell_type": "code",
   "execution_count": 5,
   "metadata": {},
   "outputs": [
    {
     "name": "stdout",
     "output_type": "stream",
     "text": [
      "Stored 'SQL_DB_NAME' (str)\n"
     ]
    }
   ],
   "source": [
    "SQL_DB_NAME=\"sql-db-davidbreau\"\n",
    "%store SQL_DB_NAME"
   ]
  }
 ],
 "metadata": {
  "kernelspec": {
   "display_name": "venv",
   "language": "python",
   "name": "python3"
  },
  "language_info": {
   "codemirror_mode": {
    "name": "ipython",
    "version": 3
   },
   "file_extension": ".py",
   "mimetype": "text/x-python",
   "name": "python",
   "nbconvert_exporter": "python",
   "pygments_lexer": "ipython3",
   "version": "3.9.18"
  }
 },
 "nbformat": 4,
 "nbformat_minor": 2
}
