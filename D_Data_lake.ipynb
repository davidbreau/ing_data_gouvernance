{
 "cells": [
  {
   "cell_type": "markdown",
   "metadata": {},
   "source": [
    "Charger les variables :"
   ]
  },
  {
   "cell_type": "code",
   "execution_count": 8,
   "metadata": {},
   "outputs": [],
   "source": [
    "%store -r RG_NAME ADLS_NAME ADLS_LOCATION"
   ]
  },
  {
   "cell_type": "markdown",
   "metadata": {},
   "source": [
    "Créer le data lake :"
   ]
  },
  {
   "cell_type": "code",
   "execution_count": null,
   "metadata": {},
   "outputs": [],
   "source": [
    "%%bash -s \"$RG_NAME\" \"$ADLS_NAME\" \"$ADLS_LOCATION\"\n",
    "\n",
    "az storage account create \\\n",
    "      --name \"$2\" \\\n",
    "      --resource-group \"$1\" \\\n",
    "      --location \"$3\" \\\n",
    "      --sku Standard_LRS \\\n",
    "      --kind StorageV2 \\\n",
    "      --hns true # 🚨 \n",
    "      --query \"provisioningState\" \\\n",
    "      --output tsv"
   ]
  },
  {
   "cell_type": "code",
   "execution_count": null,
   "metadata": {},
   "outputs": [],
   "source": [
    "Vérifier que "
   ]
  },
  {
   "cell_type": "code",
   "execution_count": 11,
   "metadata": {},
   "outputs": [],
   "source": [
    "%%bash -s \"$RG_NAME\" \"$ADLS_NAME\"\n",
    "\n",
    "KEYS=$(az storage account keys list -g \"$1\" -n \"$2\" --query \"[].value\" -o tsv)\n",
    "\n",
    "# Extraire la première et la deuxième clé\n",
    "KEY1=$(echo \"$KEYS\" | head -n1)\n",
    "KEY2=$(echo \"$KEYS\" | tail -n1)\n",
    "\n",
    "{\n",
    "    echo \"ADLS_KEY_1=\\\"$KEY1\\\"\"\n",
    "    echo \"ADLS_KEY_2=\\\"$KEY2\\\"\"\n",
    "    echo \"\"\n",
    "} >> .env"
   ]
  },
  {
   "cell_type": "markdown",
   "metadata": {},
   "source": [
    "Créer les conteneurs :"
   ]
  },
  {
   "cell_type": "code",
   "execution_count": 12,
   "metadata": {},
   "outputs": [],
   "source": [
    "%%bash -s $ADLS_NAME\n",
    "source .env\n",
    "\n",
    "for container in \"logs\" \"region-ara\" \"region-hdf\" \"region-idf\" \"region-occ\" \"region-paca\"\n",
    "do \n",
    "    az storage container create  \\\n",
    "        --account-name \"$1\" \\\n",
    "        --name \"$container\" \\\n",
    "        --account-key $ADLS_KEY_1 \\\n",
    "        --output none\n",
    "done"
   ]
  },
  {
   "cell_type": "markdown",
   "metadata": {},
   "source": [
    "Charger les conteneurs avec les fichiers correspondants :"
   ]
  },
  {
   "cell_type": "code",
   "execution_count": 14,
   "metadata": {},
   "outputs": [
    {
     "name": "stdout",
     "output_type": "stream",
     "text": [
      "Upload du dossier logs...\n"
     ]
    },
    {
     "name": "stderr",
     "output_type": "stream",
     "text": [
      "Finished[#############################################################]  100.0000%\n"
     ]
    },
    {
     "name": "stdout",
     "output_type": "stream",
     "text": [
      "✅ Upload terminé pour logs\n",
      "Upload du dossier region-ara...\n"
     ]
    },
    {
     "name": "stderr",
     "output_type": "stream",
     "text": [
      "Finished[#############################################################]  100.0000%\n"
     ]
    },
    {
     "name": "stdout",
     "output_type": "stream",
     "text": [
      "✅ Upload terminé pour region-ara\n",
      "Upload du dossier region-hdf...\n"
     ]
    },
    {
     "name": "stderr",
     "output_type": "stream",
     "text": [
      "Finished[#############################################################]  100.0000%\n"
     ]
    },
    {
     "name": "stdout",
     "output_type": "stream",
     "text": [
      "✅ Upload terminé pour region-hdf\n",
      "Upload du dossier region-idf...\n"
     ]
    },
    {
     "name": "stderr",
     "output_type": "stream",
     "text": [
      "Finished[#############################################################]  100.0000%\n"
     ]
    },
    {
     "name": "stdout",
     "output_type": "stream",
     "text": [
      "✅ Upload terminé pour region-idf\n",
      "Upload du dossier region-occ...\n"
     ]
    },
    {
     "name": "stderr",
     "output_type": "stream",
     "text": [
      "Finished[#############################################################]  100.0000%\n"
     ]
    },
    {
     "name": "stdout",
     "output_type": "stream",
     "text": [
      "✅ Upload terminé pour region-occ\n",
      "Upload du dossier region-paca...\n"
     ]
    },
    {
     "name": "stderr",
     "output_type": "stream",
     "text": [
      "Finished[#############################################################]  100.0000%\n"
     ]
    },
    {
     "name": "stdout",
     "output_type": "stream",
     "text": [
      "✅ Upload terminé pour region-paca\n"
     ]
    }
   ],
   "source": [
    "%%bash -s $ADLS_NAME\n",
    "source .env\n",
    "for container in \"logs\" \"region-ara\" \"region-hdf\" \"region-idf\" \"region-occ\" \"region-paca\"\n",
    "do\n",
    "    echo \"Upload du dossier $container...\"\n",
    "    az storage blob upload-batch \\\n",
    "        --account-name \"$1\" \\\n",
    "        --account-key \"$ADLS_KEY_1\" \\\n",
    "        --destination \"$container\" \\\n",
    "        --source \"DATA/Data_Lake/$container\" \\\n",
    "        --pattern \"*\" \\\n",
    "        --output none\n",
    "    echo \"✅ Upload terminé pour $container\"\n",
    "done"
   ]
  }
 ],
 "metadata": {
  "kernelspec": {
   "display_name": "venv",
   "language": "python",
   "name": "python3"
  },
  "language_info": {
   "codemirror_mode": {
    "name": "ipython",
    "version": 3
   },
   "file_extension": ".py",
   "mimetype": "text/x-python",
   "name": "python",
   "nbconvert_exporter": "python",
   "pygments_lexer": "ipython3",
   "version": "3.9.18"
  }
 },
 "nbformat": 4,
 "nbformat_minor": 2
}
