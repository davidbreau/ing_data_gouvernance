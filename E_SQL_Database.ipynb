{
 "cells": [
  {
   "cell_type": "markdown",
   "metadata": {},
   "source": [
    "Charger les variables :"
   ]
  },
  {
   "cell_type": "code",
   "execution_count": 3,
   "metadata": {},
   "outputs": [],
   "source": [
    "%store -r  RG_NAME SQL_SERVER_NAME SQL_DB_NAME"
   ]
  },
  {
   "cell_type": "code",
   "execution_count": null,
   "metadata": {},
   "outputs": [],
   "source": []
  },
  {
   "cell_type": "markdown",
   "metadata": {},
   "source": [
    "Récuperer et stocker les informations de l'utilisateur connecté :"
   ]
  },
  {
   "cell_type": "code",
   "execution_count": 29,
   "metadata": {},
   "outputs": [],
   "source": [
    "%%bash\n",
    "\n",
    "{\n",
    "    echo \"AZURE_SUBSCRIPTION_ID=\\\"$(az account show --query id -o tsv)\\\"\"\n",
    "    echo \"AZURE_TENANT_ID=\\\"$(az account show --query tenantId -o tsv)\\\"\"\n",
    "    echo \"USER_PRINCIPAL_NAME=\\\"$(az ad signed-in-user show --query userPrincipalName -o tsv)\\\"\"\n",
    "    echo \"USER_ID=\\\"$(az ad signed-in-user show --query id -o tsv)\\\"\"\n",
    "    echo \"\"\n",
    "} >> .env\n"
   ]
  },
  {
   "cell_type": "markdown",
   "metadata": {},
   "source": [
    "Créer le serveur SQL :"
   ]
  },
  {
   "cell_type": "code",
   "execution_count": 19,
   "metadata": {},
   "outputs": [
    {
     "name": "stdout",
     "output_type": "stream",
     "text": [
      "Ready\n"
     ]
    }
   ],
   "source": [
    "%%bash -s \"$RG_NAME\" \"$SQL_SERVER_NAME\" \n",
    "source .env\n",
    "\n",
    "az sql server create \\\n",
    "    --name \"$2\" \\\n",
    "    --resource-group \"$1\" \\\n",
    "    --location \"FranceCentral\" \\\n",
    "    --enable-ad-only-auth \\\n",
    "    --external-admin-principal-type User \\\n",
    "    --external-admin-name \"$USER_PRINCIPAL_NAME\" \\\n",
    "    --external-admin-sid \"$USER_ID\" \\\n",
    "    --query \"state\" \\\n",
    "    -o tsv"
   ]
  },
  {
   "cell_type": "markdown",
   "metadata": {},
   "source": [
    "Créer la base de données :"
   ]
  },
  {
   "cell_type": "code",
   "execution_count": null,
   "metadata": {},
   "outputs": [],
   "source": [
    "%%bash -s $RG_NAME $SQL_SERVER_NAME $SQL_DB_NAME\n",
    "source .env\n",
    "\n",
    "az login --use-device-code\n",
    "\n",
    "az sql db create \\\n",
    "    --resource-group $1 \\\n",
    "    --server $2 \\\n",
    "    --name $3 \\\n",
    "    --edition GeneralPurpose \\\n",
    "    --family Gen5 \\\n",
    "    --capacity 1 \\\n",
    "    --compute-model Serverless \\\n",
    "    --auto-pause-delay 60 \\\n",
    "    --max-size 2GB \\\n",
    "    --subscription \"$AZURE_SUBSCRIPTION_ID\" \\\n",
    "    --user \"$USER_PRINCIPAL_NAME\" \\\n",
    "    --yes  \\\n",
    "    --query \"status\" \\\n",
    "    -o tsv"
   ]
  },
  {
   "cell_type": "markdown",
   "metadata": {},
   "source": [
    "    Note : Les paramètres passés correspondent à une bdd avec un workload-environment \"Development\" sur le portal    "
   ]
  }
 ],
 "metadata": {
  "kernelspec": {
   "display_name": "venv",
   "language": "python",
   "name": "python3"
  },
  "language_info": {
   "codemirror_mode": {
    "name": "ipython",
    "version": 3
   },
   "file_extension": ".py",
   "mimetype": "text/x-python",
   "name": "python",
   "nbconvert_exporter": "python",
   "pygments_lexer": "ipython3",
   "version": "3.9.18"
  }
 },
 "nbformat": 4,
 "nbformat_minor": 2
}
